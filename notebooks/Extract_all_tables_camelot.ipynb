{
 "cells": [
  {
   "cell_type": "markdown",
   "id": "9d532bf0-eb3b-4414-827f-0bc83f297c54",
   "metadata": {},
   "source": [
    "## The notebook is designed to:\n",
    "### Process multiple PDF files in a batch\n",
    "### Extract all tables from each PDF\n",
    "### Save each extracted table as a separate CSV file\n",
    "### Maintain the original file naming convention while adding table numbers to the output files"
   ]
  },
  {
   "cell_type": "code",
   "execution_count": 1,
   "id": "1dd099ea-69c4-4e7f-a6c4-0f4116376b20",
   "metadata": {},
   "outputs": [],
   "source": [
    "import os\n",
    "import sys\n",
    "import pandas as pd\n",
    "\n",
    "# Add the src directory to the path so we can import our modules\n",
    "sys.path.append('..')\n",
    "\n",
    "# Import our custom modules\n",
    "from src.table_utils import extract_tables_from_pdf, process_pdf_directory, save_pdfs_without_tables"
   ]
  },
  {
   "cell_type": "code",
   "execution_count": 2,
   "id": "e8acad30-486a-491d-bb81-9fde5073ed92",
   "metadata": {},
   "outputs": [],
   "source": [
    "## specify input and output directories\n",
    "work_dir = \"..\"\n",
    "pdf_dir = work_dir + \"/data/CoPath_All_pdfs/OncoKids_split\"  # Change this to your PDF file path\n",
    "output_folder = work_dir + \"/table/extracted_tables/CoPath_OncoKids_All\"  # Change this to your desired output folder path"
   ]
  },
  {
   "cell_type": "code",
   "execution_count": 3,
   "id": "8d403ca3-be0e-43c8-a087-74797d41277c",
   "metadata": {},
   "outputs": [],
   "source": [
    "# Process all PDFs in the directory\n",
    "no_tables_pdfs = process_pdf_directory(pdf_dir, output_folder)\n",
    "\n",
    "# Save the list of PDFs with no tables\n",
    "no_tables_csv_path = save_pdfs_without_tables(no_tables_pdfs, output_folder)\n",
    "\n",
    "# Print summary information\n",
    "print(f\"\\nPDFs with no tables saved to: {no_tables_csv_path}\")\n",
    "print(f\"Number of PDFs with no tables: {len(no_tables_pdfs)}\")"
   ]
  },
  {
   "cell_type": "code",
   "execution_count": 4,
   "id": "3933499a-f8c6-485b-ab1a-598cf9c7b628",
   "metadata": {},
   "outputs": [],
   "source": [
    "# Optional: If you want to extract tables using the stream flavor instead\n",
    "# This section demonstrates how to use the extract_tables_from_pdf function with different parameters\n",
    "\n",
    "# Example for a specific PDF with the stream flavor:\n",
    "# pdf_to_reprocess = \"OncoKids_2022_S22-4649.pdf\"  # Replace with an actual PDF name\n",
    "# if pdf_to_reprocess in no_tables_pdfs and os.path.exists(os.path.join(pdf_dir, pdf_to_reprocess)):\n",
    "#     print(f\"Reprocessing {pdf_to_reprocess} with stream flavor...\")\n",
    "#     has_tables = extract_tables_from_pdf(\n",
    "#         pdf_dir, \n",
    "#         pdf_to_reprocess, \n",
    "#         output_folder,\n",
    "#         flavor='stream',  # Using stream instead of lattice\n",
    "#         line_scale=40     # Different line scale\n",
    "#     )\n",
    "#     print(f\"Tables found: {has_tables}\")"
   ]
  }
 ],
 "metadata": {
  "kernelspec": {
   "display_name": "Python 3 (ipykernel)",
   "language": "python",
   "name": "python3"
  },
  "language_info": {
   "codemirror_mode": {
    "name": "ipython",
    "version": 3
   },
   "file_extension": ".py",
   "mimetype": "text/x-python",
   "name": "python",
   "nbconvert_exporter": "python",
   "pygments_lexer": "ipython3",
   "version": "3.11.3"
  }
 },
 "nbformat": 4,
 "nbformat_minor": 5
}