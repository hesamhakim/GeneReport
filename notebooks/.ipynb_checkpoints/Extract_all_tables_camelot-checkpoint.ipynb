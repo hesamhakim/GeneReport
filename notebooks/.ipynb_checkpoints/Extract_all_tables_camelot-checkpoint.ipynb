{
 "cells": [
  {
   "cell_type": "markdown",
   "id": "9d532bf0-eb3b-4414-827f-0bc83f297c54",
   "metadata": {},
   "source": [
    "## The notebook is designed to:\n",
    "### Process multiple PDF files in a batch\n",
    "### Extract all tables from each PDF\n",
    "### Save each extracted table as a separate CSV file\n",
    "### Maintain the original file naming convention while adding table numbers to the output files"
   ]
  },
  {
   "cell_type": "code",
   "execution_count": 50,
   "id": "1dd099ea-69c4-4e7f-a6c4-0f4116376b20",
   "metadata": {},
   "outputs": [],
   "source": [
    "import camelot\n",
    "import os\n",
    "import pandas as pd"
   ]
  },
  {
   "cell_type": "code",
   "execution_count": 51,
   "id": "e8acad30-486a-491d-bb81-9fde5073ed92",
   "metadata": {},
   "outputs": [],
   "source": [
    "def extract_tables_from_pdf(pdf_dir, pdf_file, output_folder, pages=\"all\"):\n",
    "    # Using lattice mode as an example, which works well for PDFs with clear table borders\n",
    "    tables = camelot.read_pdf(os.path.join(pdf_dir, pdf_file), pages=pages, flavor='lattice', line_scale=60)\n",
    "    report_name = os.path.splitext(pdf_file)[0]\n",
    "\n",
    "    # Check if any tables are found\n",
    "    if tables.n == 0:\n",
    "        print(f\"No table from '{pdf_file}' saved\")\n",
    "        return False  # Return False if no tables found\n",
    "    \n",
    "    # Iterate over found tables and save them as CSV\n",
    "    for i, table in enumerate(tables, start=1):\n",
    "        # Save the table as a CSV\n",
    "        csv_file=f\"{report_name}_table_camelot_{i}.csv\"\n",
    "        csv_path = os.path.join(output_folder, csv_file)\n",
    "        table.to_csv(csv_path)\n",
    "        print(f\"Table {i} from '{pdf_file}' saved as '{csv_file}'\")\n",
    "    \n",
    "    return True  # Return True if tables were found"
   ]
  },
  {
   "cell_type": "code",
   "execution_count": 52,
   "id": "2a31c3d0-aa38-4115-9bd1-e09a3193f72f",
   "metadata": {},
   "outputs": [],
   "source": [
    "## specify input  and output\n",
    "work_dir=\"..\"\n",
    "pdf_dir = work_dir+\"/data/CoPath_All_pdfs/OncoKids_split\"  # Change this to your PDF file path\n",
    "output_folder = work_dir+\"/table/extracted_tables/CoPath_OncoKids_All\"  # Change this to your desired output folder path\n"
   ]
  },
  {
   "cell_type": "code",
   "execution_count": 53,
   "id": "8d403ca3-be0e-43c8-a087-74797d41277c",
   "metadata": {},
   "outputs": [
    {
     "name": "stdout",
     "output_type": "stream",
     "text": [
      "No table from 'OncoKids_2022_S22-4649.pdf' saved\n",
      "Table 1 from 'OncoKids_2022_S22-5345.pdf' saved as 'OncoKids_2022_S22-5345_table_camelot_1.csv'\n",
      "Table 2 from 'OncoKids_2022_S22-5345.pdf' saved as 'OncoKids_2022_S22-5345_table_camelot_2.csv'\n",
      "Table 1 from 'OncoKids_2022_C22-285.pdf' saved as 'OncoKids_2022_C22-285_table_camelot_1.csv'\n",
      "Table 1 from 'OncoKids_2022_H22-4504.pdf' saved as 'OncoKids_2022_H22-4504_table_camelot_1.csv'\n",
      "Table 1 from 'OncoKids_2022_S22-4298.pdf' saved as 'OncoKids_2022_S22-4298_table_camelot_1.csv'\n",
      "Table 2 from 'OncoKids_2022_S22-4298.pdf' saved as 'OncoKids_2022_S22-4298_table_camelot_2.csv'\n",
      "Table 3 from 'OncoKids_2022_S22-4298.pdf' saved as 'OncoKids_2022_S22-4298_table_camelot_3.csv'\n",
      "Table 1 from 'OncoKids_2022_S22-4850.pdf' saved as 'OncoKids_2022_S22-4850_table_camelot_1.csv'\n",
      "Table 1 from 'OncoKids_2022_S22-3875.pdf' saved as 'OncoKids_2022_S22-3875_table_camelot_1.csv'\n",
      "Table 2 from 'OncoKids_2022_S22-3875.pdf' saved as 'OncoKids_2022_S22-3875_table_camelot_2.csv'\n",
      "Table 3 from 'OncoKids_2022_S22-3875.pdf' saved as 'OncoKids_2022_S22-3875_table_camelot_3.csv'\n",
      "No table from 'OncoKids_2022_S22-5343.pdf' saved\n",
      "Table 1 from 'OncoKids_2022_S22-5424.pdf' saved as 'OncoKids_2022_S22-5424_table_camelot_1.csv'\n",
      "Table 2 from 'OncoKids_2022_S22-5424.pdf' saved as 'OncoKids_2022_S22-5424_table_camelot_2.csv'\n",
      "Table 1 from 'OncoKids_2022_S21-4184.pdf' saved as 'OncoKids_2022_S21-4184_table_camelot_1.csv'\n",
      "Table 2 from 'OncoKids_2022_S21-4184.pdf' saved as 'OncoKids_2022_S21-4184_table_camelot_2.csv'\n",
      "Table 1 from 'OncoKids_2022_S21-4186.pdf' saved as 'OncoKids_2022_S21-4186_table_camelot_1.csv'\n",
      "Table 2 from 'OncoKids_2022_S21-4186.pdf' saved as 'OncoKids_2022_S21-4186_table_camelot_2.csv'\n",
      "Table 1 from 'OncoKids_2022_H22-4304.pdf' saved as 'OncoKids_2022_H22-4304_table_camelot_1.csv'\n",
      "Table 2 from 'OncoKids_2022_H22-4304.pdf' saved as 'OncoKids_2022_H22-4304_table_camelot_2.csv'\n",
      "Table 3 from 'OncoKids_2022_H22-4304.pdf' saved as 'OncoKids_2022_H22-4304_table_camelot_3.csv'\n",
      "Table 1 from 'OncoKids_2022_S22-5279.pdf' saved as 'OncoKids_2022_S22-5279_table_camelot_1.csv'\n",
      "Table 1 from 'OncoKids_2022_S22-5480.pdf' saved as 'OncoKids_2022_S22-5480_table_camelot_1.csv'\n",
      "Table 2 from 'OncoKids_2022_S22-5480.pdf' saved as 'OncoKids_2022_S22-5480_table_camelot_2.csv'\n",
      "Table 3 from 'OncoKids_2022_S22-5480.pdf' saved as 'OncoKids_2022_S22-5480_table_camelot_3.csv'\n",
      "Table 1 from 'OncoKids_2022_S22-5443.pdf' saved as 'OncoKids_2022_S22-5443_table_camelot_1.csv'\n",
      "Table 1 from 'OncoKids_2022_S22-5319.pdf' saved as 'OncoKids_2022_S22-5319_table_camelot_1.csv'\n",
      "No table from 'OncoKids_2022_S22-5046.pdf' saved\n",
      "Table 1 from 'OncoKids_2022_S22-4942.pdf' saved as 'OncoKids_2022_S22-4942_table_camelot_1.csv'\n",
      "Table 2 from 'OncoKids_2022_S22-4942.pdf' saved as 'OncoKids_2022_S22-4942_table_camelot_2.csv'\n",
      "Table 3 from 'OncoKids_2022_S22-4942.pdf' saved as 'OncoKids_2022_S22-4942_table_camelot_3.csv'\n",
      "Table 1 from 'OncoKids_2022_S19-5499.pdf' saved as 'OncoKids_2022_S19-5499_table_camelot_1.csv'\n",
      "Table 2 from 'OncoKids_2022_S19-5499.pdf' saved as 'OncoKids_2022_S19-5499_table_camelot_2.csv'\n",
      "Table 3 from 'OncoKids_2022_S19-5499.pdf' saved as 'OncoKids_2022_S19-5499_table_camelot_3.csv'\n",
      "Table 1 from 'OncoKids_2022_S22-5067.pdf' saved as 'OncoKids_2022_S22-5067_table_camelot_1.csv'\n",
      "No table from 'OncoKids_2022_S22-4180.pdf' saved\n",
      "Table 1 from 'OncoKids_2022_S22-4750.pdf' saved as 'OncoKids_2022_S22-4750_table_camelot_1.csv'\n",
      "Table 2 from 'OncoKids_2022_S22-4750.pdf' saved as 'OncoKids_2022_S22-4750_table_camelot_2.csv'\n",
      "No table from 'OncoKids_2022_S22-5289.pdf' saved\n",
      "Table 1 from 'OncoKids_2022_H22-4781.pdf' saved as 'OncoKids_2022_H22-4781_table_camelot_1.csv'\n",
      "Table 2 from 'OncoKids_2022_H22-4781.pdf' saved as 'OncoKids_2022_H22-4781_table_camelot_2.csv'\n",
      "Table 3 from 'OncoKids_2022_H22-4781.pdf' saved as 'OncoKids_2022_H22-4781_table_camelot_3.csv'\n",
      "No table from 'OncoKids_2022_S22-4697.pdf' saved\n",
      "Table 1 from 'OncoKids_2022_H22-4485.pdf' saved as 'OncoKids_2022_H22-4485_table_camelot_1.csv'\n",
      "Table 2 from 'OncoKids_2022_H22-4485.pdf' saved as 'OncoKids_2022_H22-4485_table_camelot_2.csv'\n",
      "Table 3 from 'OncoKids_2022_H22-4485.pdf' saved as 'OncoKids_2022_H22-4485_table_camelot_3.csv'\n",
      "No table from 'OncoKids_2022_S22-5172.pdf' saved\n",
      "Table 1 from 'OncoKids_2022_H22-4057.pdf' saved as 'OncoKids_2022_H22-4057_table_camelot_1.csv'\n",
      "Table 2 from 'OncoKids_2022_H22-4057.pdf' saved as 'OncoKids_2022_H22-4057_table_camelot_2.csv'\n",
      "Table 1 from 'OncoKids_2022_S22-5577.pdf' saved as 'OncoKids_2022_S22-5577_table_camelot_1.csv'\n",
      "Table 2 from 'OncoKids_2022_S22-5577.pdf' saved as 'OncoKids_2022_S22-5577_table_camelot_2.csv'\n",
      "Table 1 from 'OncoKids_2022_C22-264.pdf' saved as 'OncoKids_2022_C22-264_table_camelot_1.csv'\n",
      "Table 2 from 'OncoKids_2022_C22-264.pdf' saved as 'OncoKids_2022_C22-264_table_camelot_2.csv'\n",
      "Table 1 from 'OncoKids_2022_H22-4109.pdf' saved as 'OncoKids_2022_H22-4109_table_camelot_1.csv'\n",
      "Table 2 from 'OncoKids_2022_H22-4109.pdf' saved as 'OncoKids_2022_H22-4109_table_camelot_2.csv'\n",
      "Table 3 from 'OncoKids_2022_H22-4109.pdf' saved as 'OncoKids_2022_H22-4109_table_camelot_3.csv'\n",
      "Table 4 from 'OncoKids_2022_H22-4109.pdf' saved as 'OncoKids_2022_H22-4109_table_camelot_4.csv'\n",
      "Table 1 from 'OncoKids_2022_H22-4497.pdf' saved as 'OncoKids_2022_H22-4497_table_camelot_1.csv'\n",
      "Table 2 from 'OncoKids_2022_H22-4497.pdf' saved as 'OncoKids_2022_H22-4497_table_camelot_2.csv'\n",
      "Table 1 from 'OncoKids_2022_S22-4900.pdf' saved as 'OncoKids_2022_S22-4900_table_camelot_1.csv'\n",
      "Table 2 from 'OncoKids_2022_S22-4900.pdf' saved as 'OncoKids_2022_S22-4900_table_camelot_2.csv'\n",
      "Table 1 from 'OncoKids_2022_H22-4737.pdf' saved as 'OncoKids_2022_H22-4737_table_camelot_1.csv'\n",
      "Table 2 from 'OncoKids_2022_H22-4737.pdf' saved as 'OncoKids_2022_H22-4737_table_camelot_2.csv'\n",
      "Table 1 from 'OncoKids_2022_S22-5215.pdf' saved as 'OncoKids_2022_S22-5215_table_camelot_1.csv'\n",
      "Table 2 from 'OncoKids_2022_S22-5215.pdf' saved as 'OncoKids_2022_S22-5215_table_camelot_2.csv'\n",
      "Table 1 from 'OncoKids_2022_S22-5375.pdf' saved as 'OncoKids_2022_S22-5375_table_camelot_1.csv'\n",
      "No table from 'OncoKids_2022_S22-5162.pdf' saved\n",
      "Table 1 from 'OncoKids_2022_C22-317.pdf' saved as 'OncoKids_2022_C22-317_table_camelot_1.csv'\n",
      "\n",
      "PDFs with no tables saved to: ../table/extracted_tables/CoPath_OncoKids_All/pdfs_with_no_tables.csv\n",
      "Number of PDFs with no tables: 8\n"
     ]
    }
   ],
   "source": [
    "# Create a list to store PDFs with no tables\n",
    "no_tables_pdfs = []\n",
    "\n",
    "# Process all PDFs\n",
    "for pdf_file in os.listdir(pdf_dir):\n",
    "    if pdf_file.endswith(\".pdf\"):\n",
    "        has_tables = extract_tables_from_pdf(pdf_dir, pdf_file, output_folder)\n",
    "        if not has_tables:\n",
    "            no_tables_pdfs.append(pdf_file)\n",
    "\n",
    "# Create DataFrame of PDFs with no tables\n",
    "no_tables_df = pd.DataFrame(no_tables_pdfs, columns=['PDF_Filename'])\n",
    "\n",
    "# Save the DataFrame to CSV\n",
    "no_tables_csv_path = os.path.join(output_folder, 'pdfs_with_no_tables.csv')\n",
    "no_tables_df.to_csv(no_tables_csv_path, index=False)\n",
    "print(f\"\\nPDFs with no tables saved to: {no_tables_csv_path}\")\n",
    "print(f\"Number of PDFs with no tables: {len(no_tables_pdfs)}\")"
   ]
  },
  {
   "cell_type": "code",
   "execution_count": null,
   "id": "3933499a-f8c6-485b-ab1a-598cf9c7b628",
   "metadata": {},
   "outputs": [],
   "source": []
  }
 ],
 "metadata": {
  "kernelspec": {
   "display_name": "Python 3 (ipykernel)",
   "language": "python",
   "name": "python3"
  },
  "language_info": {
   "codemirror_mode": {
    "name": "ipython",
    "version": 3
   },
   "file_extension": ".py",
   "mimetype": "text/x-python",
   "name": "python",
   "nbconvert_exporter": "python",
   "pygments_lexer": "ipython3",
   "version": "3.11.3"
  }
 },
 "nbformat": 4,
 "nbformat_minor": 5
}
